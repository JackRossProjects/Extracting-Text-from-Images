{
  "nbformat": 4,
  "nbformat_minor": 0,
  "metadata": {
    "colab": {
      "name": "Image-to-Text-Exploration.ipynb",
      "provenance": []
    },
    "kernelspec": {
      "name": "python3",
      "display_name": "Python 3"
    }
  },
  "cells": [
    {
      "cell_type": "markdown",
      "metadata": {
        "id": "hTCG4nUyHTuX",
        "colab_type": "text"
      },
      "source": [
        "# Install FastAPI and multipart"
      ]
    },
    {
      "cell_type": "code",
      "metadata": {
        "id": "Gh3Es0cXkiDw",
        "colab_type": "code",
        "colab": {
          "base_uri": "https://localhost:8080/",
          "height": 294
        },
        "outputId": "b4c11497-1b66-415b-ccd0-17043268ad67"
      },
      "source": [
        "!pip install fastapi nest-asyncio pyngrok uvicorn\n",
        "!pip install python-multipart"
      ],
      "execution_count": 1,
      "outputs": [
        {
          "output_type": "stream",
          "text": [
            "Requirement already satisfied: fastapi in /usr/local/lib/python3.6/dist-packages (0.61.1)\n",
            "Requirement already satisfied: nest-asyncio in /usr/local/lib/python3.6/dist-packages (1.4.0)\n",
            "Requirement already satisfied: pyngrok in /usr/local/lib/python3.6/dist-packages (4.1.10)\n",
            "Requirement already satisfied: uvicorn in /usr/local/lib/python3.6/dist-packages (0.11.8)\n",
            "Requirement already satisfied: starlette==0.13.6 in /usr/local/lib/python3.6/dist-packages (from fastapi) (0.13.6)\n",
            "Requirement already satisfied: pydantic<2.0.0,>=1.0.0 in /usr/local/lib/python3.6/dist-packages (from fastapi) (1.6.1)\n",
            "Requirement already satisfied: future in /usr/local/lib/python3.6/dist-packages (from pyngrok) (0.16.0)\n",
            "Requirement already satisfied: PyYAML in /usr/local/lib/python3.6/dist-packages (from pyngrok) (3.13)\n",
            "Requirement already satisfied: httptools==0.1.*; sys_platform != \"win32\" and sys_platform != \"cygwin\" and platform_python_implementation != \"PyPy\" in /usr/local/lib/python3.6/dist-packages (from uvicorn) (0.1.1)\n",
            "Requirement already satisfied: click==7.* in /usr/local/lib/python3.6/dist-packages (from uvicorn) (7.1.2)\n",
            "Requirement already satisfied: websockets==8.* in /usr/local/lib/python3.6/dist-packages (from uvicorn) (8.1)\n",
            "Requirement already satisfied: uvloop>=0.14.0; sys_platform != \"win32\" and sys_platform != \"cygwin\" and platform_python_implementation != \"PyPy\" in /usr/local/lib/python3.6/dist-packages (from uvicorn) (0.14.0)\n",
            "Requirement already satisfied: h11<0.10,>=0.8 in /usr/local/lib/python3.6/dist-packages (from uvicorn) (0.9.0)\n",
            "Requirement already satisfied: dataclasses>=0.6; python_version < \"3.7\" in /usr/local/lib/python3.6/dist-packages (from pydantic<2.0.0,>=1.0.0->fastapi) (0.7)\n",
            "Requirement already satisfied: python-multipart in /usr/local/lib/python3.6/dist-packages (0.0.5)\n",
            "Requirement already satisfied: six>=1.4.0 in /usr/local/lib/python3.6/dist-packages (from python-multipart) (1.15.0)\n"
          ],
          "name": "stdout"
        }
      ]
    },
    {
      "cell_type": "markdown",
      "metadata": {
        "id": "C3ff84_ETNCP",
        "colab_type": "text"
      },
      "source": [
        "# Select image from HTML Menu and return image on submit"
      ]
    },
    {
      "cell_type": "code",
      "metadata": {
        "id": "z3CFJg0KqQRe",
        "colab_type": "code",
        "colab": {}
      },
      "source": [
        "from typing import List\n",
        "from fastapi.responses import StreamingResponse\n",
        "from fastapi import FastAPI, File, UploadFile\n",
        "from fastapi.responses import HTMLResponse\n",
        "from fastapi.responses import FileResponse\n",
        "\n",
        "app = FastAPI()\n",
        "\n",
        "'''\n",
        "some_file_path = \"vertplanmt.jpg\"\n",
        "\n",
        "@app.get(\"/streamTest\")\n",
        "def main():\n",
        "    file_like = open(some_file_path, mode=\"rb\")\n",
        "    return StreamingResponse(file_like, media_type=\"image/jpg\")\n",
        "\n",
        "\n",
        "# THIS IS WHERE THE UPLOADED IMAGE SHOULD BE DISPLAYED\n",
        "@app.post(\"/file/\")\n",
        "async def create_files(file: UploadFile = File(...)):\n",
        "    return StreamingResponse(file.file, media_type=\"image/jpg\")\n",
        "'''    \n",
        "\n",
        "\n",
        "@app.post(\"/uploadfile/\")\n",
        "async def create_upload_file(file: UploadFile = File(...)):\n",
        "    contents = file.file._file\n",
        "    media_type = file.content_type\n",
        "    return StreamingResponse(contents, media_type=media_type)\n",
        "\n",
        "\n",
        "@app.get(\"/\")\n",
        "async def main():\n",
        "    content = \"\"\"\n",
        "<body>\n",
        "<form action=\"/uploadfile/\" enctype=\"multipart/form-data\" method=\"post\">\n",
        "<input name=\"file\" type=\"file\" multiple>\n",
        "<input type=\"submit\">\n",
        "</form>\n",
        "</body>\n",
        "    \"\"\"\n",
        "    return HTMLResponse(content=content)"
      ],
      "execution_count": 2,
      "outputs": []
    },
    {
      "cell_type": "code",
      "metadata": {
        "colab_type": "code",
        "id": "xl8IcTvCsLwb",
        "colab": {
          "base_uri": "https://localhost:8080/",
          "height": 173
        },
        "outputId": "86e06582-2c06-4a35-d254-7310772159aa"
      },
      "source": [
        "import nest_asyncio\n",
        "from pyngrok import ngrok\n",
        "import uvicorn\n",
        "\n",
        "url = ngrok.connect(port=8000)\n",
        "print('Public URL:', url)\n",
        "nest_asyncio.apply()\n",
        "uvicorn.run(app, port=8000)"
      ],
      "execution_count": null,
      "outputs": [
        {
          "output_type": "stream",
          "text": [
            "INFO:     Started server process [3634]\n",
            "INFO:     Waiting for application startup.\n",
            "INFO:     Application startup complete.\n",
            "INFO:     Uvicorn running on http://127.0.0.1:8000 (Press CTRL+C to quit)\n"
          ],
          "name": "stderr"
        },
        {
          "output_type": "stream",
          "text": [
            "Public URL: http://a87183e3aa99.ngrok.io\n",
            "INFO:     2601:282:4700:5be0:519c:f876:7242:107:0 - \"GET / HTTP/1.1\" 200 OK\n",
            "INFO:     2601:282:4700:5be0:519c:f876:7242:107:0 - \"GET /favicon.ico HTTP/1.1\" 404 Not Found\n",
            "INFO:     167.71.153.17:0 - \"GET / HTTP/1.1\" 200 OK\n",
            "INFO:     2601:282:4700:5be0:519c:f876:7242:107:0 - \"POST /uploadfile/ HTTP/1.1\" 200 OK\n"
          ],
          "name": "stdout"
        }
      ]
    },
    {
      "cell_type": "code",
      "metadata": {
        "id": "8PLoQpiYTyqk",
        "colab_type": "code",
        "colab": {}
      },
      "source": [
        ""
      ],
      "execution_count": null,
      "outputs": []
    }
  ]
}